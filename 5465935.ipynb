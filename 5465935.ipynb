{
 "cells": [
  {
   "cell_type": "markdown",
   "id": "48816294",
   "metadata": {},
   "source": [
    "\n",
    "# YZV-211E Introduction to Data Science and Engineering\n",
    "\n",
    "\n",
    "## Homework 4: Building and Evaluating Machine Learning Models\n",
    "\n",
    "**Fall 2022**<br>\n",
    "**Instructor:** *Asst. Prof. Dr. Faik Boray TEK* <br>\n",
    "**Reach out to TA Erhan Bicer for any of your questions (bicer21@itu.edu.tr)**\n",
    "\n",
    "---\n",
    "\n"
   ]
  },
  {
   "cell_type": "markdown",
   "id": "35e3f6f8",
   "metadata": {},
   "source": [
    "In this assignment, you will be practicing:\n",
    "* Regression\n",
    "* Classification\n",
    "* Clustering\n",
    "* Evaluating ML models"
   ]
  },
  {
   "cell_type": "markdown",
   "id": "caea5a48",
   "metadata": {},
   "source": [
    "**Before diving into solving assignment**:\n",
    "* Use random_state parameter as 0 if the parameter exists to avoid different solutions if the code is re-executed.\n",
    "* You can add cells within the headers for your code.\n",
    "* Prefarably, use models within the sklearn. \n",
    "* Write your name, surname and student number in the below markdown.\n",
    "* This is the last homework before the project, thanks for your efforts so far. Keep up the good work, the semester is almost done :)\n"
   ]
  },
  {
   "cell_type": "code",
   "execution_count": 1,
   "id": "e7310457",
   "metadata": {},
   "outputs": [],
   "source": [
    "import numpy as np\n",
    "np.random.seed(42) # meaning of life: 42"
   ]
  },
  {
   "cell_type": "markdown",
   "id": "60adc520",
   "metadata": {},
   "source": [
    "### Submitted by:\n",
    "Beyza Nur Keskin | 150200320\n"
   ]
  },
  {
   "cell_type": "markdown",
   "id": "fe6589f8",
   "metadata": {},
   "source": [
    "### Import necessary packages"
   ]
  },
  {
   "cell_type": "markdown",
   "id": "a1ea8870",
   "metadata": {},
   "source": [
    "Import packages that you are going to use, do not remove already existing ones."
   ]
  },
  {
   "cell_type": "code",
   "execution_count": 2,
   "id": "96afd403",
   "metadata": {},
   "outputs": [],
   "source": [
    "import numpy as np\n",
    "import pandas as pd\n",
    "import matplotlib.pyplot as plt\n",
    "from sklearn.datasets import load_breast_cancer\n",
    "import seaborn as sns\n",
    "from sklearn.model_selection import train_test_split "
   ]
  },
  {
   "cell_type": "markdown",
   "id": "32c1b5ca",
   "metadata": {},
   "source": [
    "## Regression"
   ]
  },
  {
   "cell_type": "markdown",
   "id": "5f3fadfd",
   "metadata": {},
   "source": [
    "*Recall: In regression task, aim is to make predictions on continous values (e.g. predicting expected income in next month for a company)*"
   ]
  },
  {
   "cell_type": "markdown",
   "id": "3c8cc433",
   "metadata": {},
   "source": [
    "A NASA dataset about average temperature is given. In the dataset, annual difference in average global temperature is given. Your task is to use the data between **1880 and 2010 (inclusive) to train your model** and **make predictions for upcoming years after 2010 (2011-2021)**. **Evaluate your model with actual annual difference for these years**."
   ]
  },
  {
   "cell_type": "code",
   "execution_count": 3,
   "id": "f17d30a4",
   "metadata": {},
   "outputs": [
    {
     "data": {
      "text/html": [
       "<div>\n",
       "<style scoped>\n",
       "    .dataframe tbody tr th:only-of-type {\n",
       "        vertical-align: middle;\n",
       "    }\n",
       "\n",
       "    .dataframe tbody tr th {\n",
       "        vertical-align: top;\n",
       "    }\n",
       "\n",
       "    .dataframe thead th {\n",
       "        text-align: right;\n",
       "    }\n",
       "</style>\n",
       "<table border=\"1\" class=\"dataframe\">\n",
       "  <thead>\n",
       "    <tr style=\"text-align: right;\">\n",
       "      <th></th>\n",
       "      <th>Year</th>\n",
       "      <th>Difference</th>\n",
       "    </tr>\n",
       "  </thead>\n",
       "  <tbody>\n",
       "    <tr>\n",
       "      <th>0</th>\n",
       "      <td>1880</td>\n",
       "      <td>-0.16</td>\n",
       "    </tr>\n",
       "    <tr>\n",
       "      <th>1</th>\n",
       "      <td>1881</td>\n",
       "      <td>-0.07</td>\n",
       "    </tr>\n",
       "    <tr>\n",
       "      <th>2</th>\n",
       "      <td>1882</td>\n",
       "      <td>-0.10</td>\n",
       "    </tr>\n",
       "    <tr>\n",
       "      <th>3</th>\n",
       "      <td>1883</td>\n",
       "      <td>-0.17</td>\n",
       "    </tr>\n",
       "    <tr>\n",
       "      <th>4</th>\n",
       "      <td>1884</td>\n",
       "      <td>-0.28</td>\n",
       "    </tr>\n",
       "  </tbody>\n",
       "</table>\n",
       "</div>"
      ],
      "text/plain": [
       "   Year  Difference\n",
       "0  1880       -0.16\n",
       "1  1881       -0.07\n",
       "2  1882       -0.10\n",
       "3  1883       -0.17\n",
       "4  1884       -0.28"
      ]
     },
     "execution_count": 3,
     "metadata": {},
     "output_type": "execute_result"
    }
   ],
   "source": [
    "df = pd.read_csv(\"nasa-temperature.txt\",sep=\",\",index_col=0)\n",
    "df.head()                                                        #I'm reviewing the dataset here"
   ]
  },
  {
   "cell_type": "code",
   "execution_count": 4,
   "id": "95a21331",
   "metadata": {},
   "outputs": [
    {
     "data": {
      "text/html": [
       "<div>\n",
       "<style scoped>\n",
       "    .dataframe tbody tr th:only-of-type {\n",
       "        vertical-align: middle;\n",
       "    }\n",
       "\n",
       "    .dataframe tbody tr th {\n",
       "        vertical-align: top;\n",
       "    }\n",
       "\n",
       "    .dataframe thead th {\n",
       "        text-align: right;\n",
       "    }\n",
       "</style>\n",
       "<table border=\"1\" class=\"dataframe\">\n",
       "  <thead>\n",
       "    <tr style=\"text-align: right;\">\n",
       "      <th></th>\n",
       "      <th>Year</th>\n",
       "      <th>Difference</th>\n",
       "    </tr>\n",
       "  </thead>\n",
       "  <tbody>\n",
       "    <tr>\n",
       "      <th>137</th>\n",
       "      <td>2017</td>\n",
       "      <td>0.92</td>\n",
       "    </tr>\n",
       "    <tr>\n",
       "      <th>138</th>\n",
       "      <td>2018</td>\n",
       "      <td>0.85</td>\n",
       "    </tr>\n",
       "    <tr>\n",
       "      <th>139</th>\n",
       "      <td>2019</td>\n",
       "      <td>0.98</td>\n",
       "    </tr>\n",
       "    <tr>\n",
       "      <th>140</th>\n",
       "      <td>2020</td>\n",
       "      <td>1.02</td>\n",
       "    </tr>\n",
       "    <tr>\n",
       "      <th>141</th>\n",
       "      <td>2021</td>\n",
       "      <td>0.84</td>\n",
       "    </tr>\n",
       "  </tbody>\n",
       "</table>\n",
       "</div>"
      ],
      "text/plain": [
       "     Year  Difference\n",
       "137  2017        0.92\n",
       "138  2018        0.85\n",
       "139  2019        0.98\n",
       "140  2020        1.02\n",
       "141  2021        0.84"
      ]
     },
     "execution_count": 4,
     "metadata": {},
     "output_type": "execute_result"
    }
   ],
   "source": [
    "df.tail()                                                        #I'm reviewing the dataset here"
   ]
  },
  {
   "cell_type": "markdown",
   "id": "803d567c",
   "metadata": {},
   "source": [
    "### Training-Test Split"
   ]
  },
  {
   "cell_type": "markdown",
   "id": "f343b7d4",
   "metadata": {},
   "source": [
    "Since this is a temporal (time-based) dataset, training-test split should be done carefully. Aim is to use historical data to predict annual difference in upcoming years.\n",
    "* Use the data between **1880 and 2010 (inclusive) as training set**\n",
    "* **test set consist of samples after 2010 (2011-2021)**."
   ]
  },
  {
   "cell_type": "code",
   "execution_count": 5,
   "id": "0f91a7a1",
   "metadata": {},
   "outputs": [
    {
     "data": {
      "text/html": [
       "<div>\n",
       "<style scoped>\n",
       "    .dataframe tbody tr th:only-of-type {\n",
       "        vertical-align: middle;\n",
       "    }\n",
       "\n",
       "    .dataframe tbody tr th {\n",
       "        vertical-align: top;\n",
       "    }\n",
       "\n",
       "    .dataframe thead th {\n",
       "        text-align: right;\n",
       "    }\n",
       "</style>\n",
       "<table border=\"1\" class=\"dataframe\">\n",
       "  <thead>\n",
       "    <tr style=\"text-align: right;\">\n",
       "      <th></th>\n",
       "      <th>Year</th>\n",
       "      <th>Difference</th>\n",
       "    </tr>\n",
       "  </thead>\n",
       "  <tbody>\n",
       "    <tr>\n",
       "      <th>131</th>\n",
       "      <td>2011</td>\n",
       "      <td>0.61</td>\n",
       "    </tr>\n",
       "    <tr>\n",
       "      <th>132</th>\n",
       "      <td>2012</td>\n",
       "      <td>0.65</td>\n",
       "    </tr>\n",
       "    <tr>\n",
       "      <th>133</th>\n",
       "      <td>2013</td>\n",
       "      <td>0.67</td>\n",
       "    </tr>\n",
       "    <tr>\n",
       "      <th>134</th>\n",
       "      <td>2014</td>\n",
       "      <td>0.74</td>\n",
       "    </tr>\n",
       "    <tr>\n",
       "      <th>135</th>\n",
       "      <td>2015</td>\n",
       "      <td>0.90</td>\n",
       "    </tr>\n",
       "    <tr>\n",
       "      <th>136</th>\n",
       "      <td>2016</td>\n",
       "      <td>1.01</td>\n",
       "    </tr>\n",
       "    <tr>\n",
       "      <th>137</th>\n",
       "      <td>2017</td>\n",
       "      <td>0.92</td>\n",
       "    </tr>\n",
       "    <tr>\n",
       "      <th>138</th>\n",
       "      <td>2018</td>\n",
       "      <td>0.85</td>\n",
       "    </tr>\n",
       "    <tr>\n",
       "      <th>139</th>\n",
       "      <td>2019</td>\n",
       "      <td>0.98</td>\n",
       "    </tr>\n",
       "    <tr>\n",
       "      <th>140</th>\n",
       "      <td>2020</td>\n",
       "      <td>1.02</td>\n",
       "    </tr>\n",
       "    <tr>\n",
       "      <th>141</th>\n",
       "      <td>2021</td>\n",
       "      <td>0.84</td>\n",
       "    </tr>\n",
       "  </tbody>\n",
       "</table>\n",
       "</div>"
      ],
      "text/plain": [
       "     Year  Difference\n",
       "131  2011        0.61\n",
       "132  2012        0.65\n",
       "133  2013        0.67\n",
       "134  2014        0.74\n",
       "135  2015        0.90\n",
       "136  2016        1.01\n",
       "137  2017        0.92\n",
       "138  2018        0.85\n",
       "139  2019        0.98\n",
       "140  2020        1.02\n",
       "141  2021        0.84"
      ]
     },
     "execution_count": 5,
     "metadata": {},
     "output_type": "execute_result"
    }
   ],
   "source": [
    "df.loc[df[\"Year\"] > 2010]                                 #I use loc to find the index of years after 2010"
   ]
  },
  {
   "cell_type": "markdown",
   "id": "917aaf19",
   "metadata": {},
   "source": [
    " "
   ]
  },
  {
   "cell_type": "code",
   "execution_count": 6,
   "id": "f63cb5e7",
   "metadata": {},
   "outputs": [],
   "source": [
    "X = df.iloc[:, 0:1].values                                #Separate the dependent and independent variable\n",
    "y = df.iloc[:, 1].values"
   ]
  },
  {
   "cell_type": "markdown",
   "id": "b15e6132",
   "metadata": {},
   "source": [
    " "
   ]
  },
  {
   "cell_type": "code",
   "execution_count": 7,
   "id": "34a183ca",
   "metadata": {},
   "outputs": [],
   "source": [
    "X_test, y_test = X[131:141], y[131:141]                    #I separate the years after 2010 as a test."
   ]
  },
  {
   "cell_type": "code",
   "execution_count": 8,
   "id": "0ad48404",
   "metadata": {},
   "outputs": [],
   "source": [
    "X_train, y_train = X[0:131], y[0:131]                      #I separate the years before 2010 as a train"
   ]
  },
  {
   "cell_type": "markdown",
   "id": "013f3c44",
   "metadata": {},
   "source": [
    "### Apply simple linear regression"
   ]
  },
  {
   "cell_type": "markdown",
   "id": "2b501feb",
   "metadata": {},
   "source": [
    "* Apply simple linear regression\n",
    "* Plot the actual values and predictions (plot both train and test predictions together for complete view).\n",
    "* Using appropriate metrics (at least 2), report how well your regression line fit to both training data and testing data."
   ]
  },
  {
   "cell_type": "code",
   "execution_count": 9,
   "id": "4796bd41",
   "metadata": {},
   "outputs": [
    {
     "data": {
      "image/png": "[encoded data removed]",
      "text/plain": [
       "<Figure size 720x360 with 1 Axes>"
      ]
     },
     "metadata": {
      "needs_background": "light"
     },
     "output_type": "display_data"
    }
   ],
   "source": [
    "from sklearn.linear_model import LinearRegression                         #I import the necessary modules\n",
    "\n",
    "plt.figure(figsize=(10,5))                                                #I adjust the size of my chart\n",
    "\n",
    "lin_reg = LinearRegression()                      \n",
    "\n",
    "lin_reg.fit(X, y)                                                         #I fit my linreg model\n",
    " \n",
    "plt.scatter(X_train, y_train, color='green',   alpha = 0.3)               #I'm making adjustments to show my train data.\n",
    "plt.scatter(X_test,  y_test,  color='purple',  alpha = 0.4)               #I'm making adjustments to show my test data.\n",
    "\n",
    "plt.plot(X_train, lin_reg.predict(X_train), color='purple',  alpha=0.2)   #I make adjustments to plot the regression line\n",
    "plt.plot(X_test, lin_reg.predict(X_test),   color='green',   alpha=0.7)\n",
    "\n",
    "plt.show()                                                                #I plot the graph"
   ]
  },
  {
   "cell_type": "code",
   "execution_count": 10,
   "id": "6b9f39cf",
   "metadata": {},
   "outputs": [
    {
     "name": "stdout",
     "output_type": "stream",
     "text": [
      "      RMSE:  0.17766144105173792\n",
      "       MSE:  0.031563587636580154\n",
      " r^2 Score:  0.7570076895272889\n"
     ]
    }
   ],
   "source": [
    "from sklearn.linear_model import LinearRegression                            #I import the necessary modules\n",
    "from sklearn.metrics import mean_squared_error,r2_score\n",
    "\n",
    "\n",
    "lin_reg = LinearRegression()                             \n",
    "lin_reg.fit(X, y)                                                            #I fit my linreg model\n",
    "\n",
    "\n",
    "train_error = mean_squared_error(lin_reg.predict(X), y)                      #I am doing mse calculation\n",
    "\n",
    "y_pred      = lin_reg.predict(X)\n",
    "r2_score    = r2_score(y,y_pred)                                             #I am doing r^2 score calculation\n",
    "\n",
    "print(\"      RMSE: \", np.sqrt(mean_squared_error(lin_reg.predict(X), y)))    #I'm printing RMSE , MSE and r^2 values\n",
    "print(\"       MSE: \", train_error)\n",
    "print(\" r^2 Score: \", r2_score)"
   ]
  },
  {
   "cell_type": "markdown",
   "id": "decc6d0f",
   "metadata": {},
   "source": [
    "### Polynomial Regression"
   ]
  },
  {
   "cell_type": "markdown",
   "id": "62ef6edb",
   "metadata": {},
   "source": [
    "* Apply polynomial regression. Decide on optimal degree.\n",
    "* Plot the actual values and predictions (plot both train and test predictions together for complete view).\n",
    "* Using appropriate metrics (at least 2), report how well your regression line fit to both training data and testing data.\n",
    "* Answer Question 1."
   ]
  },
  {
   "cell_type": "code",
   "execution_count": 11,
   "id": "0870aefd",
   "metadata": {
    "scrolled": true
   },
   "outputs": [
    {
     "data": {
      "image/png": "[encoded data removed]",
      "text/plain": [
       "<Figure size 720x360 with 1 Axes>"
      ]
     },
     "metadata": {
      "needs_background": "light"
     },
     "output_type": "display_data"
    }
   ],
   "source": [
    "from sklearn.preprocessing import PolynomialFeatures                        #I import the necessary modules\n",
    "\n",
    "\n",
    "plt.figure(figsize=(10,5))                                                  #I adjust the size of my chart\n",
    " \n",
    "\n",
    "poly_reg = PolynomialFeatures(degree=4)\n",
    "X_poly = poly_reg.fit_transform(X)                                          #I fit my polreg model\n",
    "\n",
    "pol_reg = LinearRegression()\n",
    "pol_reg.fit(X_poly, y)                                                      #I fit my linreg model\n",
    "\n",
    "    \n",
    "plt.scatter(X_train,  y_train,  color='green' ,  alpha = 0.3)               #I'm making adjustments to show my train data. \n",
    "plt.scatter(X_test,   y_test,   color='purple',  alpha = 0.4)               #I'm making adjustments to show my test data.\n",
    "\n",
    "plt.plot(X_train, pol_reg.predict(poly_reg.fit_transform(X_train)), color='purple', alpha=0.3) # I make adjustments to plot\n",
    "plt.plot(X_test,  pol_reg.predict(poly_reg.fit_transform(X_test))  , color='green' , alpha=0.8) #       the polynomial line\n",
    "\n",
    "plt.show()                                                                  #I plot the graph"
   ]
  },
  {
   "cell_type": "code",
   "execution_count": 12,
   "id": "daa81e37",
   "metadata": {},
   "outputs": [
    {
     "name": "stdout",
     "output_type": "stream",
     "text": [
      "RMSE: 0.18\n",
      " MSE: 0.032\n"
     ]
    }
   ],
   "source": [
    "pol_pred = pol_reg.predict(X_poly)\n",
    "\n",
    "rmse = np.sqrt(mean_squared_error(lin_reg.predict(X), y))    #I am doing rmse calculation\n",
    "mse  = mean_squared_error(lin_reg.predict(X), y)             #I am doing mse calculation\n",
    "\n",
    "print(\"RMSE: \" +\"{:.2}\".format(rmse))                        #I'm printing RMSE and MSE values\n",
    "print(\" MSE: \" +\"{:.2}\".format(mse))"
   ]
  },
  {
   "cell_type": "markdown",
   "id": "d47287ee",
   "metadata": {},
   "source": [
    "### Question 1 \n",
    "* Which metrics have you chosen? Why?\n",
    "* Compare the results of polynomial regression with linear regression. Which one is better in terms of evaluation metrics? Which one represents the data better? **Why?**"
   ]
  },
  {
   "cell_type": "markdown",
   "id": "03db81bd",
   "metadata": {},
   "source": [
    "**Your Answer:**\n",
    "\n",
    "* I chose to use R2, RMSE and MSE for linear regression, and RMSE and MSE for polynomial regression. Since I have used them in my previous projects, they were my first choice as I am more familiar with them. It also gives me an idea about my model very simply.\n",
    "\n",
    "* In my opinion, polynomial regression should have been more appropriate, but I think I made mistakes in the coding, so linear regression scores were better. I expected it to give better results because polynomial regression is more data compatible."
   ]
  },
  {
   "cell_type": "markdown",
   "id": "0554cba7",
   "metadata": {},
   "source": [
    "## Classification"
   ]
  },
  {
   "cell_type": "markdown",
   "id": "87386c76",
   "metadata": {},
   "source": [
    "*Recall: In classification, goal is to classify samples (e.g. classifying various flowers such as iris-setosa, iris-versicolour)*"
   ]
  },
  {
   "cell_type": "markdown",
   "id": "50ad5d14",
   "metadata": {},
   "source": [
    "We will be working with breast cancer wisconsin dataset. The breast cancer dataset is a classic binary classification dataset. Target (dependent) variable is 1 if the tumor is malignant, otherwise it is 0 (benign). Independent variables are medical measures of the cancer cell. Keep random state 0 if \"random_state\" parameter is available for a function (train_test_split, LogisticRegression...)"
   ]
  },
  {
   "cell_type": "markdown",
   "id": "70e76694",
   "metadata": {},
   "source": [
    "### Load Dataset: Get X (Independent Variables) and y (Target Dependent Variable)"
   ]
  },
  {
   "cell_type": "code",
   "execution_count": 13,
   "id": "640f30ec",
   "metadata": {},
   "outputs": [],
   "source": [
    "X,y = load_breast_cancer(return_X_y=True)"
   ]
  },
  {
   "cell_type": "code",
   "execution_count": null,
   "id": "bcf173ec",
   "metadata": {},
   "outputs": [],
   "source": []
  },
  {
   "cell_type": "markdown",
   "id": "a13e7337",
   "metadata": {},
   "source": [
    "### Split Dataset into Training and Testing"
   ]
  },
  {
   "cell_type": "markdown",
   "id": "2f14cc6e",
   "metadata": {},
   "source": [
    "Split the data randomly (**using random_state 0, if needed**) into train and test sets with **80% and 20%** sizes respectively."
   ]
  },
  {
   "cell_type": "code",
   "execution_count": 14,
   "id": "c864c8e7",
   "metadata": {},
   "outputs": [],
   "source": [
    "X_train, X_test, y_train, y_test = train_test_split(X, y, test_size = 0.2, random_state = 0)\n",
    "\n",
    "#I set the necessary parameters to separate my data set"
   ]
  },
  {
   "cell_type": "markdown",
   "id": "8b4ff5f1",
   "metadata": {},
   "source": [
    "### Apply Logistic Regression\n",
    "* Perform hyperparameter optimization with **at least 4 different hyperparameter combinations** (4 training and testing). You may do this manually or use GridSearch module of the sklearn package. For example, following is a grid for 4 hyperparameter combinations: {'C':[1,2],'max_iter':[20,100]}. **Answer Question 2 based on this.**\n",
    "* Report the performance of the best logistic regression model (best performing parameters in the hyperparam. optimization) with appropriate metrics.\n",
    "* Plot confusion matrix of the predictions and actual values.\n",
    "* Answer Question 3\n",
    "* Plot AUC-ROC Curve, Precision-Recall Curve.\n",
    "* Answer Question 4\n",
    "* Apply 5-Fold Cross Validation on the **training data**. Report the validation results and performance on the **test set**. Does selecting different portion of the data affect the result, think about it.\n"
   ]
  },
  {
   "cell_type": "code",
   "execution_count": 15,
   "id": "f444e418",
   "metadata": {},
   "outputs": [
    {
     "name": "stderr",
     "output_type": "stream",
     "text": [
      "C:\\Users\\Beyza\\anaconda3\\anacondaa3\\lib\\site-packages\\sklearn\\linear_model\\_logistic.py:814: ConvergenceWarning: lbfgs failed to converge (status=1):\n",
      "STOP: TOTAL NO. of ITERATIONS REACHED LIMIT.\n",
      "\n",
      "Increase the number of iterations (max_iter) or scale the data as shown in:\n",
      "    https://scikit-learn.org/stable/modules/preprocessing.html\n",
      "Please also refer to the documentation for alternative solver options:\n",
      "    https://scikit-learn.org/stable/modules/linear_model.html#logistic-regression\n",
      "  n_iter_i = _check_optimize_result(\n"
     ]
    }
   ],
   "source": [
    "from sklearn import linear_model            #I import the necessary modules\n",
    "\n",
    "logr = linear_model.LogisticRegression()\n",
    "\n",
    "log_model = logr.fit(X,y)                   #I fit my logreg model"
   ]
  },
  {
   "cell_type": "code",
   "execution_count": 33,
   "id": "ad779c50",
   "metadata": {},
   "outputs": [
    {
     "name": "stdout",
     "output_type": "stream",
     "text": [
      "Fitting 5 folds for each of 1200 candidates, totalling 6000 fits\n"
     ]
    },
    {
     "name": "stderr",
     "output_type": "stream",
     "text": [
      "C:\\Users\\Beyza\\anaconda3\\anacondaa3\\lib\\site-packages\\sklearn\\model_selection\\_validation.py:372: FitFailedWarning: \n",
      "2000 fits failed out of a total of 6000.\n",
      "The score on these train-test partitions for these parameters will be set to nan.\n",
      "If these failures are not expected, you can try to debug them by setting error_score='raise'.\n",
      "\n",
      "Below are more details about the failures:\n",
      "--------------------------------------------------------------------------------\n",
      "2000 fits failed with the following error:\n",
      "Traceback (most recent call last):\n",
      "  File \"C:\\Users\\Beyza\\anaconda3\\anacondaa3\\lib\\site-packages\\sklearn\\model_selection\\_validation.py\", line 680, in _fit_and_score\n",
      "    estimator.fit(X_train, y_train, **fit_params)\n",
      "  File \"C:\\Users\\Beyza\\anaconda3\\anacondaa3\\lib\\site-packages\\sklearn\\ensemble\\_forest.py\", line 450, in fit\n",
      "    trees = Parallel(\n",
      "  File \"C:\\Users\\Beyza\\anaconda3\\anacondaa3\\lib\\site-packages\\joblib\\parallel.py\", line 1043, in __call__\n",
      "    if self.dispatch_one_batch(iterator):\n",
      "  File \"C:\\Users\\Beyza\\anaconda3\\anacondaa3\\lib\\site-packages\\joblib\\parallel.py\", line 861, in dispatch_one_batch\n",
      "    self._dispatch(tasks)\n",
      "  File \"C:\\Users\\Beyza\\anaconda3\\anacondaa3\\lib\\site-packages\\joblib\\parallel.py\", line 779, in _dispatch\n",
      "    job = self._backend.apply_async(batch, callback=cb)\n",
      "  File \"C:\\Users\\Beyza\\anaconda3\\anacondaa3\\lib\\site-packages\\joblib\\_parallel_backends.py\", line 208, in apply_async\n",
      "    result = ImmediateResult(func)\n",
      "  File \"C:\\Users\\Beyza\\anaconda3\\anacondaa3\\lib\\site-packages\\joblib\\_parallel_backends.py\", line 572, in __init__\n",
      "    self.results = batch()\n",
      "  File \"C:\\Users\\Beyza\\anaconda3\\anacondaa3\\lib\\site-packages\\joblib\\parallel.py\", line 262, in __call__\n",
      "    return [func(*args, **kwargs)\n",
      "  File \"C:\\Users\\Beyza\\anaconda3\\anacondaa3\\lib\\site-packages\\joblib\\parallel.py\", line 262, in <listcomp>\n",
      "    return [func(*args, **kwargs)\n",
      "  File \"C:\\Users\\Beyza\\anaconda3\\anacondaa3\\lib\\site-packages\\sklearn\\utils\\fixes.py\", line 216, in __call__\n",
      "    return self.function(*args, **kwargs)\n",
      "  File \"C:\\Users\\Beyza\\anaconda3\\anacondaa3\\lib\\site-packages\\sklearn\\ensemble\\_forest.py\", line 185, in _parallel_build_trees\n",
      "    tree.fit(X, y, sample_weight=curr_sample_weight, check_input=False)\n",
      "  File \"C:\\Users\\Beyza\\anaconda3\\anacondaa3\\lib\\site-packages\\sklearn\\tree\\_classes.py\", line 937, in fit\n",
      "    super().fit(\n",
      "  File \"C:\\Users\\Beyza\\anaconda3\\anacondaa3\\lib\\site-packages\\sklearn\\tree\\_classes.py\", line 250, in fit\n",
      "    raise ValueError(\n",
      "ValueError: min_samples_split must be an integer greater than 1 or a float in (0.0, 1.0]; got the integer 1\n",
      "\n",
      "  warnings.warn(some_fits_failed_message, FitFailedWarning)\n",
      "C:\\Users\\Beyza\\anaconda3\\anacondaa3\\lib\\site-packages\\sklearn\\model_selection\\_search.py:969: UserWarning: One or more of the test scores are non-finite: [       nan        nan        nan ... 0.94945055 0.95164835 0.95164835]\n",
      "  warnings.warn(\n"
     ]
    },
    {
     "name": "stdout",
     "output_type": "stream",
     "text": [
      "rf gridcv model accuracy score = 0.964835164835165\n"
     ]
    }
   ],
   "source": [
    "from sklearn.ensemble import RandomForestClassifier                        #I import the necessary modules\n",
    "from sklearn.model_selection import GridSearchCV, RandomizedSearchCV       \n",
    " \n",
    "rf_params = {'bootstrap': [True],                                          # Frankly, I'm not sure what I'm doing here,   \n",
    "    'max_depth': [80, 90, 100, 110],                                       # I tried something,\n",
    "    'max_features': [2, 3],                                                # but I don't understand much,\n",
    "    'min_samples_leaf': range(1,11),                                       # so I can't answer some of the questions below.\n",
    "    'min_samples_split': range(1,15,5),\n",
    "    'n_estimators': [100, 200, 300,500,1000]}\n",
    "rf = RandomForestClassifier()\n",
    "rf_gridcv_model = GridSearchCV(estimator=rf, param_grid=rf_params, cv=5, scoring='accuracy', n_jobs=-1, verbose=2).fit(X_train,y_train)\n",
    "rf_gridcv_model.best_params_\n",
    "print('rf gridcv model accuracy score = {}'.format(rf_gridcv_model.best_score_))"
   ]
  },
  {
   "cell_type": "markdown",
   "id": "016ad620",
   "metadata": {},
   "source": [
    "### Question 2\n",
    "\n",
    "Report your observations on how the performance is affected when the parameters change and **why.** So, pick parameters that you can explain the reason behind the effect on the performance."
   ]
  },
  {
   "cell_type": "markdown",
   "id": "74ac9949",
   "metadata": {},
   "source": [
    "**Your Answer:**"
   ]
  },
  {
   "cell_type": "markdown",
   "id": "cadf833f",
   "metadata": {},
   "source": [
    "As the parameters change, of course, I get the conditions that are more suitable for the data. so I expect the accuracy rate to increase while the processing time is getting shorter. Although I understand the homework as logic and I think I know the subjects, I really had a hard time coding."
   ]
  },
  {
   "cell_type": "markdown",
   "id": "5c5f25be",
   "metadata": {},
   "source": [
    "### Question 3\n",
    "\n",
    "Using confusion matrix, explain the performance of the model briefly."
   ]
  },
  {
   "cell_type": "code",
   "execution_count": 38,
   "id": "39bc542e",
   "metadata": {},
   "outputs": [
    {
     "data": {
      "image/png": "[encoded data removed]",
      "text/plain": [
       "<Figure size 576x396 with 2 Axes>"
      ]
     },
     "metadata": {},
     "output_type": "display_data"
    }
   ],
   "source": [
    "from sklearn.metrics import confusion_matrix                  #I import the necessary modules\n",
    "\n",
    "cm = confusion_matrix(y, y_pred)                              #I built the confusion matrix\n",
    "sns.heatmap(cm, fmt = \".0f\",annot = True)                     #I used heatmap for a nicer visual\n",
    "plt.show()                                                    #I plot the graph"
   ]
  },
  {
   "cell_type": "markdown",
   "id": "f4f468d7",
   "metadata": {},
   "source": [
    "**Your Answer:**\n",
    "\n",
    "My error rates are very low, so I see my model fits very well. My recall and precision values are higher than I expected."
   ]
  },
  {
   "cell_type": "markdown",
   "id": "777e95ee",
   "metadata": {},
   "source": [
    "### Question 4\n",
    "\n",
    "Examine the curves and explain the performance of the model briefly."
   ]
  },
  {
   "cell_type": "code",
   "execution_count": 40,
   "id": "46fcd1c0",
   "metadata": {},
   "outputs": [
    {
     "name": "stderr",
     "output_type": "stream",
     "text": [
      "C:\\Users\\Beyza\\anaconda3\\anacondaa3\\lib\\site-packages\\sklearn\\utils\\deprecation.py:87: FutureWarning: Function plot_roc_curve is deprecated; Function :func:`plot_roc_curve` is deprecated in 1.0 and will be removed in 1.2. Use one of the class methods: :meth:`sklearn.metric.RocCurveDisplay.from_predictions` or :meth:`sklearn.metric.RocCurveDisplay.from_estimator`.\n",
      "  warnings.warn(msg, category=FutureWarning)\n"
     ]
    },
    {
     "data": {
      "image/png": "[encoded data removed]",
      "text/plain": [
       "<Figure size 576x396 with 1 Axes>"
      ]
     },
     "metadata": {},
     "output_type": "display_data"
    }
   ],
   "source": [
    "from sklearn import datasets, metrics, model_selection, svm                 #I import the necessary modules\n",
    "\n",
    "clf = svm.SVC(random_state=0)                                               #I set the necessary parameters \n",
    "clf.fit(X_train, y_train)                                                   #         to draw the roc curve\n",
    "metrics.plot_roc_curve(clf, X_test, y_test)\n",
    "plt.show()                                                                  #I plot the graph"
   ]
  },
  {
   "cell_type": "code",
   "execution_count": 42,
   "id": "6f3e11b0",
   "metadata": {},
   "outputs": [
    {
     "data": {
      "image/png": "[encoded data removed]",
      "text/plain": [
       "<Figure size 576x396 with 1 Axes>"
      ]
     },
     "metadata": {},
     "output_type": "display_data"
    }
   ],
   "source": [
    "y_pred_proba = log_model.predict_proba(X_test)[::,1]                        #I set the necessary parameters\n",
    "fpr, tpr, _ = metrics.roc_curve(y_test,  y_pred_proba)                      #         to draw the auc curve\n",
    "auc = metrics.roc_auc_score(y_test, y_pred_proba)\n",
    "\n",
    "\n",
    "plt.plot(fpr,tpr,label=\"AUC=\"+str(auc))\n",
    "plt.ylabel('True Positive Rate')\n",
    "plt.xlabel('False Positive Rate')\n",
    "plt.legend(loc=4)\n",
    "plt.show()                                                                  #I plot the graph"
   ]
  },
  {
   "cell_type": "markdown",
   "id": "6753c905",
   "metadata": {},
   "source": [
    "**Your Answer:**\n",
    "\n",
    "Although my roc and auc curves seem a little strange to me with their ladder-like structure in terms of shape, I think they are at an almost perfect level. which shows that I have chosen my model correctly"
   ]
  },
  {
   "cell_type": "markdown",
   "id": "e0e7cbfe",
   "metadata": {},
   "source": [
    "### Apply another classifier that you have chosen\n",
    "* Report the performance of the model with appropriate metrics (at least 4) on the test data.\n",
    "* Plot confusion matrix of the predictions and actual values.\n",
    "* Answer Question 5 and 6.\n",
    "\n",
    "*You do not need to perform hyperparameter optimization for this section.*"
   ]
  },
  {
   "cell_type": "markdown",
   "id": "a7a2a614",
   "metadata": {},
   "source": [
    "### Question 5\n",
    "Using confusion matrix, explain the performance of the model briefly. Compare the performance of this model with logistic regression model."
   ]
  },
  {
   "cell_type": "markdown",
   "id": "e64c7679",
   "metadata": {},
   "source": [
    "**Your Answer:**"
   ]
  },
  {
   "cell_type": "markdown",
   "id": "9b3cc28c",
   "metadata": {},
   "source": [
    "### Question 6\n",
    "\n",
    "When does the \"accuracy\" metric fails to represent the success of our model so that we rely on other metrics? Think about possible scenarios and give a single example and explain briefly."
   ]
  },
  {
   "cell_type": "markdown",
   "id": "e68c9a6f",
   "metadata": {},
   "source": [
    "**Your Answer:**"
   ]
  },
  {
   "cell_type": "markdown",
   "id": "adfe6123",
   "metadata": {},
   "source": [
    "## Clustering"
   ]
  },
  {
   "cell_type": "markdown",
   "id": "111e5d95",
   "metadata": {},
   "source": [
    "*Recall: Clustering is an approach of unsupervised learning. In clustering, aim is to split the database into several clusters/groups in where there is no given information of classes. It can be used for anomaly detection, customer segmentation and so on.*"
   ]
  },
  {
   "cell_type": "markdown",
   "id": "1fc85bde",
   "metadata": {},
   "source": [
    "We will be using penguins data that you are familiar from the visualization recitation. Drop the rows that contain null value. You are going to only use following columns (attributes/features):\n",
    "\n",
    "1. \"bill_length_mm\"\n",
    "2. \"bill_depth_mm\"\n",
    "3. \"flipper_length_mm\"\n",
    "4. \"body_mass_g\"<br />and \"species\" (this feature will only be used to compare what we have found with clustering approach)"
   ]
  },
  {
   "cell_type": "markdown",
   "id": "192f604c",
   "metadata": {},
   "source": [
    "### Apply K-Means"
   ]
  },
  {
   "cell_type": "markdown",
   "id": "fdd9238c",
   "metadata": {},
   "source": [
    "* Use the dataset with 4 columns as **\"bill_length_mm\",\n",
    "\"bill_depth_mm\",\n",
    "\"flipper_length_mm\" and\n",
    "\"body_mass_g\".**\n",
    "* Apply PCA and return 2 principal components. This is done for visualizing purposes. Since dataset does not contain numerous features, information loss due to PCA is negligible.\n",
    "\n",
    "* Report sums of squared error between centroids and within the clusters (also called total inertia).\n",
    "* Answer Question 7."
   ]
  },
  {
   "cell_type": "code",
   "execution_count": 16,
   "id": "029d9dbe",
   "metadata": {},
   "outputs": [],
   "source": [
    "from sklearn.cluster import KMeans                                #I import the necessary modules\n",
    "from sklearn.preprocessing import MinMaxScaler\n",
    "from yellowbrick.cluster import KElbowVisualizer\n",
    "from sklearn.preprocessing import StandardScaler\n",
    "from sklearn.decomposition import PCA"
   ]
  },
  {
   "cell_type": "code",
   "execution_count": 17,
   "id": "b904a1f7",
   "metadata": {},
   "outputs": [],
   "source": [
    "penguins = sns.load_dataset(\"penguins\")                           #I uploaded my datset    "
   ]
  },
  {
   "cell_type": "code",
   "execution_count": 18,
   "id": "11a8feec",
   "metadata": {},
   "outputs": [],
   "source": [
    "penguins.dropna(inplace=True)                                     #I dropped empty values"
   ]
  },
  {
   "cell_type": "code",
   "execution_count": 19,
   "id": "2ab8a948",
   "metadata": {},
   "outputs": [],
   "source": [
    "penguins.drop([\"species\",\"island\",\"sex\"],axis=1,inplace=True)     #I dropped unnecessary columns"
   ]
  },
  {
   "cell_type": "code",
   "execution_count": 20,
   "id": "9ee393ab",
   "metadata": {},
   "outputs": [
    {
     "data": {
      "text/html": [
       "<div>\n",
       "<style scoped>\n",
       "    .dataframe tbody tr th:only-of-type {\n",
       "        vertical-align: middle;\n",
       "    }\n",
       "\n",
       "    .dataframe tbody tr th {\n",
       "        vertical-align: top;\n",
       "    }\n",
       "\n",
       "    .dataframe thead th {\n",
       "        text-align: right;\n",
       "    }\n",
       "</style>\n",
       "<table border=\"1\" class=\"dataframe\">\n",
       "  <thead>\n",
       "    <tr style=\"text-align: right;\">\n",
       "      <th></th>\n",
       "      <th>bill_length_mm</th>\n",
       "      <th>bill_depth_mm</th>\n",
       "      <th>flipper_length_mm</th>\n",
       "      <th>body_mass_g</th>\n",
       "    </tr>\n",
       "  </thead>\n",
       "  <tbody>\n",
       "    <tr>\n",
       "      <th>0</th>\n",
       "      <td>39.1</td>\n",
       "      <td>18.7</td>\n",
       "      <td>181.0</td>\n",
       "      <td>3750.0</td>\n",
       "    </tr>\n",
       "    <tr>\n",
       "      <th>1</th>\n",
       "      <td>39.5</td>\n",
       "      <td>17.4</td>\n",
       "      <td>186.0</td>\n",
       "      <td>3800.0</td>\n",
       "    </tr>\n",
       "    <tr>\n",
       "      <th>2</th>\n",
       "      <td>40.3</td>\n",
       "      <td>18.0</td>\n",
       "      <td>195.0</td>\n",
       "      <td>3250.0</td>\n",
       "    </tr>\n",
       "    <tr>\n",
       "      <th>4</th>\n",
       "      <td>36.7</td>\n",
       "      <td>19.3</td>\n",
       "      <td>193.0</td>\n",
       "      <td>3450.0</td>\n",
       "    </tr>\n",
       "    <tr>\n",
       "      <th>5</th>\n",
       "      <td>39.3</td>\n",
       "      <td>20.6</td>\n",
       "      <td>190.0</td>\n",
       "      <td>3650.0</td>\n",
       "    </tr>\n",
       "    <tr>\n",
       "      <th>...</th>\n",
       "      <td>...</td>\n",
       "      <td>...</td>\n",
       "      <td>...</td>\n",
       "      <td>...</td>\n",
       "    </tr>\n",
       "    <tr>\n",
       "      <th>338</th>\n",
       "      <td>47.2</td>\n",
       "      <td>13.7</td>\n",
       "      <td>214.0</td>\n",
       "      <td>4925.0</td>\n",
       "    </tr>\n",
       "    <tr>\n",
       "      <th>340</th>\n",
       "      <td>46.8</td>\n",
       "      <td>14.3</td>\n",
       "      <td>215.0</td>\n",
       "      <td>4850.0</td>\n",
       "    </tr>\n",
       "    <tr>\n",
       "      <th>341</th>\n",
       "      <td>50.4</td>\n",
       "      <td>15.7</td>\n",
       "      <td>222.0</td>\n",
       "      <td>5750.0</td>\n",
       "    </tr>\n",
       "    <tr>\n",
       "      <th>342</th>\n",
       "      <td>45.2</td>\n",
       "      <td>14.8</td>\n",
       "      <td>212.0</td>\n",
       "      <td>5200.0</td>\n",
       "    </tr>\n",
       "    <tr>\n",
       "      <th>343</th>\n",
       "      <td>49.9</td>\n",
       "      <td>16.1</td>\n",
       "      <td>213.0</td>\n",
       "      <td>5400.0</td>\n",
       "    </tr>\n",
       "  </tbody>\n",
       "</table>\n",
       "<p>333 rows × 4 columns</p>\n",
       "</div>"
      ],
      "text/plain": [
       "     bill_length_mm  bill_depth_mm  flipper_length_mm  body_mass_g\n",
       "0              39.1           18.7              181.0       3750.0\n",
       "1              39.5           17.4              186.0       3800.0\n",
       "2              40.3           18.0              195.0       3250.0\n",
       "4              36.7           19.3              193.0       3450.0\n",
       "5              39.3           20.6              190.0       3650.0\n",
       "..              ...            ...                ...          ...\n",
       "338            47.2           13.7              214.0       4925.0\n",
       "340            46.8           14.3              215.0       4850.0\n",
       "341            50.4           15.7              222.0       5750.0\n",
       "342            45.2           14.8              212.0       5200.0\n",
       "343            49.9           16.1              213.0       5400.0\n",
       "\n",
       "[333 rows x 4 columns]"
      ]
     },
     "execution_count": 20,
     "metadata": {},
     "output_type": "execute_result"
    }
   ],
   "source": [
    "penguins"
   ]
  },
  {
   "cell_type": "code",
   "execution_count": 21,
   "id": "db25da7b",
   "metadata": {},
   "outputs": [],
   "source": [
    "penguins = StandardScaler().fit_transform(penguins)  #I scaled my dataset"
   ]
  },
  {
   "cell_type": "code",
   "execution_count": 22,
   "id": "be8a9b05",
   "metadata": {},
   "outputs": [],
   "source": [
    "kmeans= KMeans(n_clusters = 3).fit(penguins)         #I applied kmeans and split it into 3 groups"
   ]
  },
  {
   "cell_type": "code",
   "execution_count": 23,
   "id": "1660320b",
   "metadata": {},
   "outputs": [],
   "source": [
    "label = kmeans.fit_predict(penguins)"
   ]
  },
  {
   "cell_type": "code",
   "execution_count": 24,
   "id": "9aeee403",
   "metadata": {},
   "outputs": [
    {
     "data": {
      "text/plain": [
       "<matplotlib.collections.PathCollection at 0x1139896d880>"
      ]
     },
     "execution_count": 24,
     "metadata": {},
     "output_type": "execute_result"
    },
    {
     "data": {
      "image/png": "[encoded data removed]",
      "text/plain": [
       "<Figure size 576x396 with 1 Axes>"
      ]
     },
     "metadata": {},
     "output_type": "display_data"
    }
   ],
   "source": [
    "plt.scatter(penguins[label==0, 0], penguins[label==0, 1], s=100, c='purple',alpha = 0.2)\n",
    "plt.scatter(penguins[label==1, 0], penguins[label==1, 1], s=100, c='green',alpha = 0.3)\n",
    "plt.scatter(penguins[label==2, 0], penguins[label==2, 1], s=100, c='red',alpha = 0.2)\n",
    "plt.scatter(kmeans.cluster_centers_[:, 0], kmeans.cluster_centers_[:, 1], s=75, c='black')"
   ]
  },
  {
   "cell_type": "code",
   "execution_count": 25,
   "id": "92470421",
   "metadata": {},
   "outputs": [
    {
     "data": {
      "text/plain": [
       "array([0.68633893, 0.19452929, 0.09216063, 0.02697115])"
      ]
     },
     "execution_count": 25,
     "metadata": {},
     "output_type": "execute_result"
    }
   ],
   "source": [
    "pca = PCA()\n",
    "pca_fit = pca.fit_transform(penguins)\n",
    "\n",
    "pca.explained_variance_ratio_"
   ]
  },
  {
   "cell_type": "code",
   "execution_count": 26,
   "id": "9bf11351",
   "metadata": {},
   "outputs": [
    {
     "data": {
      "text/plain": [
       "array([0.68633893, 0.88086822, 0.97302885, 1.        ])"
      ]
     },
     "execution_count": 26,
     "metadata": {},
     "output_type": "execute_result"
    }
   ],
   "source": [
    "np.cumsum(pca.explained_variance_ratio_)"
   ]
  },
  {
   "cell_type": "code",
   "execution_count": 27,
   "id": "d08c08dc",
   "metadata": {},
   "outputs": [
    {
     "data": {
      "image/png": "[encoded data removed]",
      "text/plain": [
       "<Figure size 576x396 with 1 Axes>"
      ]
     },
     "metadata": {},
     "output_type": "display_data"
    }
   ],
   "source": [
    "pca = PCA().fit(penguins)\n",
    "plt.plot(np.cumsum(pca.explained_variance_ratio_))\n",
    "plt.show()"
   ]
  },
  {
   "cell_type": "markdown",
   "id": "f1ecf5f8",
   "metadata": {},
   "source": [
    "### Plot Clusters\n",
    "\n",
    "* Cluster the resulting dataset into 3 groups. Plot the scatter graph. \n",
    "* Mark 1 sample that can be considered as outlier for each cluster in the graph with a different color.\n",
    "* Answer Question 6.  "
   ]
  },
  {
   "cell_type": "markdown",
   "id": "46db5b30",
   "metadata": {},
   "source": [
    "### Question 6\n",
    "\n",
    "When does the \"accuracy\" metric fails to represent the success of our model so that we rely on other metrics? Think about possible scenarios and give a single example and explain briefly."
   ]
  },
  {
   "cell_type": "markdown",
   "id": "489d213e",
   "metadata": {},
   "source": [
    "**Your Answer:**"
   ]
  },
  {
   "cell_type": "markdown",
   "id": "b1a1b88c",
   "metadata": {},
   "source": [
    "### Question 7\n",
    "\n",
    "Examine clusters and report what do samples in same cluster have in common? Does your clustering algorithm split the data according to the species?"
   ]
  },
  {
   "cell_type": "markdown",
   "id": "657d2e48",
   "metadata": {},
   "source": [
    "**Your Answer:**"
   ]
  },
  {
   "cell_type": "markdown",
   "id": "d579febc",
   "metadata": {},
   "source": [
    "### Evaluating Clusters\n",
    "\n",
    "* Report SSE (Sums of squared error, or inertia). Answer Question 8. \n",
    "\n",
    "*Hint: You may play with the k parameter to see how inertia changes and that may help you to answer the question.*\n",
    "\n"
   ]
  },
  {
   "cell_type": "markdown",
   "id": "b4c01833",
   "metadata": {},
   "source": [
    "*Brief info box for curious ones: There are several metrics for evaluating clusters. Since clustering is an unsupervised task (there is no target variable information), metrics are based on the attributes the resulting clusters. For example, SSE (Sums of squared error, or inertia) metric evaluates the algorithm based on the distance between samples and their corresponding centroid. This metric expects that samples should be near to the centroid. A succesful clustering, according to this metric, should include samples that are condensed/gathered in an area. Yet, this metric ignores the distance between the samples from different clusters. We may also want resulting clusters to be separate from each other as much as possible to acquire distinct clusters. Silhouette score and calinski harabasz score take this aspect into account too. You may check* \n",
    "\n",
    "https://scikit-learn.org/stable/modules/generated/sklearn.metrics.silhouette_score.html\n",
    "\n",
    "https://scikit-learn.org/stable/modules/generated/sklearn.metrics.calinski_harabasz_score.html"
   ]
  },
  {
   "cell_type": "code",
   "execution_count": null,
   "id": "6bfbe41b",
   "metadata": {},
   "outputs": [],
   "source": []
  },
  {
   "cell_type": "markdown",
   "id": "b987b3e5",
   "metadata": {},
   "source": [
    "### Question 8\n",
    "\n",
    "If SSE is 0, would you call the clustering successful? In which scenario SSE could be 0?"
   ]
  },
  {
   "cell_type": "markdown",
   "id": "b6b79ede",
   "metadata": {},
   "source": [
    "**Your Answer:**"
   ]
  },
  {
   "cell_type": "code",
   "execution_count": null,
   "id": "50d24b38",
   "metadata": {},
   "outputs": [],
   "source": []
  }
 ],
 "metadata": {
  "kernelspec": {
   "display_name": "Python 3 (ipykernel)",
   "language": "python",
   "name": "python3"
  },
  "language_info": {
   "codemirror_mode": {
    "name": "ipython",
    "version": 3
   },
   "file_extension": ".py",
   "mimetype": "text/x-python",
   "name": "python",
   "nbconvert_exporter": "python",
   "pygments_lexer": "ipython3",
   "version": "3.9.12"
  }
 },
 "nbformat": 4,
 "nbformat_minor": 5
}
